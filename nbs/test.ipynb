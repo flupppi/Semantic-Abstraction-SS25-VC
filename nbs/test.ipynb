{
 "cells": [
  {
   "cell_type": "markdown",
   "id": "fbe5fe25",
   "metadata": {},
   "source": [
    "# BlenderProc Test Scenes\n",
    "> Scene generation using [Omniverse Replicator](https://docs.omniverse.nvidia.com/extensions/latest/ext_replicator.html) \n",
    "\n",
    "Below we define a **minimum viable setup** that can be rendered using Omniverse Replicator.\n",
    "\n",
    "\n",
    "\n",
    "## Building a working pipeline for data Generation with BlenderProc\n",
    "\n",
    "* Create an example scene of mulitple objects and object classes in a sensible \"real world\" environment, that could also be a real photograph\n",
    "* Add camera paths with different perspecitves.\n",
    "* Generate example data and visualize results\n",
    "\n"
   ]
  },
  {
   "cell_type": "markdown",
   "id": "61e93c55",
   "metadata": {},
   "source": [
    "Sadly it is not possible to develop a blenderproc pipeline in a notebook fully. Blenderproc needs to execute in a BlenderInternal python interpreter. \n",
    "\n",
    "We can still develop some functionality in notebooks, but only things that can be run without requiring to import the blenderproc libraries.\n",
    "\n",
    "\n",
    "## Datasets\n",
    "BlenderProc provides easy access to many datasets and freely available assets that can be used for testing using the [blenderproc download](https://github.com/DLR-RM/BlenderProc/blob/main/docs/tutorials/loader.md) command.\n",
    "\n",
    "Once you download these assets to your system they can be implemented using different loaders that convert the dataset specific formats into `MeshObject` instances.\n",
    "\n",
    "e.g.: `objs = bproc.loader.load_obj(\"mymesh.obj\")`\n",
    "\n",
    "## Manipulating objects\n",
    "\n",
    "Once loaded objects can be manipulated using built in functions.\n",
    "e.g. changing the location, rotation, full pose matrix or transformation matrix.\n",
    "\n",
    "## Custom properties\n",
    "Assigning custom properties might be interesting for semantic segmentation this can be done with the commands `obj.set_cp(\"my_prop\", 42)` or `obj.get_cp(\"my_prop\")`\n"
   ]
  },
  {
   "cell_type": "markdown",
   "id": "62378387",
   "metadata": {},
   "source": []
  }
 ],
 "metadata": {
  "kernelspec": {
   "display_name": "venv",
   "language": "python",
   "name": "python3"
  },
  "language_info": {
   "name": "python",
   "version": "3.13.5"
  }
 },
 "nbformat": 4,
 "nbformat_minor": 5
}
