{
 "cells": [
  {
   "cell_type": "markdown",
   "id": "fbe5fe25",
   "metadata": {},
   "source": [
    "# BlenderProc Test Scenes\n",
    "> Scene generation using [Omniverse Replicator](https://docs.omniverse.nvidia.com/extensions/latest/ext_replicator.html) \n",
    "\n",
    "Below we define a **minimum viable setup** that can be rendered using Omniverse Replicator.\n",
    "\n",
    "\n",
    "\n",
    "## Building a working pipeline for data Generation with BlenderProc\n",
    "\n",
    "* Create an example scene of mulitple objects and object classes in a sensible \"real world\" environment, that could also be a real photograph\n",
    "* Add camera paths with different perspecitves.\n",
    "* Generate example data and visualize results\n",
    "\n"
   ]
  },
  {
   "cell_type": "code",
   "execution_count": 10,
   "id": "284e3449",
   "metadata": {},
   "outputs": [],
   "source": [
    "test = \"Test\""
   ]
  },
  {
   "cell_type": "code",
   "execution_count": 11,
   "id": "8a6004ee",
   "metadata": {},
   "outputs": [
    {
     "data": {
      "text/plain": [
       "'Test'"
      ]
     },
     "execution_count": 11,
     "metadata": {},
     "output_type": "execute_result"
    }
   ],
   "source": [
    "test"
   ]
  },
  {
   "cell_type": "code",
   "execution_count": 12,
   "id": "fd326799",
   "metadata": {},
   "outputs": [
    {
     "ename": "ModuleNotFoundError",
     "evalue": "No module named 'blenderproc'",
     "output_type": "error",
     "traceback": [
      "\u001b[31m---------------------------------------------------------------------------\u001b[39m",
      "\u001b[31mModuleNotFoundError\u001b[39m                       Traceback (most recent call last)",
      "\u001b[36mCell\u001b[39m\u001b[36m \u001b[39m\u001b[32mIn[12]\u001b[39m\u001b[32m, line 1\u001b[39m\n\u001b[32m----> \u001b[39m\u001b[32m1\u001b[39m \u001b[38;5;28;01mimport\u001b[39;00m\u001b[38;5;250m \u001b[39m\u001b[34;01mblenderproc\u001b[39;00m\u001b[38;5;250m \u001b[39m\u001b[38;5;28;01mas\u001b[39;00m\u001b[38;5;250m \u001b[39m\u001b[34;01mbproc\u001b[39;00m\n",
      "\u001b[31mModuleNotFoundError\u001b[39m: No module named 'blenderproc'"
     ]
    }
   ],
   "source": [
    "import blenderproc as bproc"
   ]
  },
  {
   "cell_type": "code",
   "execution_count": null,
   "id": "2d8f956e",
   "metadata": {},
   "outputs": [],
   "source": [
    "import blenderproc as bproc"
   ]
  }
 ],
 "metadata": {
  "kernelspec": {
   "display_name": ".venv",
   "language": "python",
   "name": "python3"
  },
  "language_info": {
   "codemirror_mode": {
    "name": "ipython",
    "version": 3
   },
   "file_extension": ".py",
   "mimetype": "text/x-python",
   "name": "python",
   "nbconvert_exporter": "python",
   "pygments_lexer": "ipython3",
   "version": "3.13.3"
  }
 },
 "nbformat": 4,
 "nbformat_minor": 5
}
