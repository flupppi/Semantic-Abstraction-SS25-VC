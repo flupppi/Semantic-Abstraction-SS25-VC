{
 "cells": [
  {
   "cell_type": "code",
   "execution_count": null,
   "metadata": {},
   "outputs": [],
   "source": []
  },
  {
   "cell_type": "markdown",
   "metadata": {},
   "source": [
    "# Sketching in Gestalt Space\n",
    "> Paper Review"
   ]
  },
  {
   "cell_type": "code",
   "execution_count": null,
   "metadata": {},
   "outputs": [],
   "source": [
    "#| default_exp core"
   ]
  },
  {
   "cell_type": "code",
   "execution_count": null,
   "metadata": {},
   "outputs": [],
   "source": [
    "#| hide\n",
    "from nbdev.showdoc import *"
   ]
  },
  {
   "cell_type": "code",
   "execution_count": null,
   "metadata": {},
   "outputs": [],
   "source": [
    "#| export\n",
    "\n",
    "import matplotlib.pyplot as plt\n",
    "import numpy as np\n",
    "#import open3d as o3d\n",
    "import copy\n",
    "import random"
   ]
  },
  {
   "cell_type": "markdown",
   "metadata": {},
   "source": [
    "## Overview\n",
    "\n",
    "The paper describes a method for creating abstracted geometry based on an initial pre-segmented input model. This is transformed into an abstracted version by applying Gestalt principles on objects according to sketches by the user. Groupings of the scene elements according to these rules are computed and abstractions are created summarizing the objects into bounding volumes or replacing geometries with scaled versions, depending on the intent of the user abstraction\n",
    "\n",
    "### Applying Gestalt principles to 3D geometry\n",
    "\n",
    "Determining potentials for Abstraction in the scene, based on the Gestalt principles is the most Interesting part of this method.\n"
   ]
  },
  {
   "cell_type": "markdown",
   "metadata": {},
   "source": [
    "* Generate scene including a set of clear patterns (grid, dense cluster, line, tight grid, isolated cubes)\n",
    "* Compute groups based on Gestalt principles (proximity, regularity, continuity, symmetry)"
   ]
  },
  {
   "cell_type": "markdown",
   "metadata": {},
   "source": []
  },
  {
   "cell_type": "markdown",
   "metadata": {},
   "source": [
    "\n",
    "## Implementation\n",
    "\n",
    "In this notebook I implement a demonstration of the core principles of using gestalt rules to guiding the abstraction of a scene.\n",
    "\n",
    "For this we load / generate a simple scene with primitives in it ordered and aligned in a way so that different patterns and Gestalt shapes emerge naturally to the viewer. \n",
    "\n",
    "Based on this the program implements metrics from the paper to programmatically figure out these structures and mark the objects accordingly.\n",
    "\n",
    "The program then visualizes this intial guess and lets the user show his intent of which of the objects to abstract.\n",
    "\n",
    "Now using the intent and the previous knowledge a simple abstraction is computed and also rendered in the scene\n",
    "\n",
    "This interactive loop now should already provide a basic understanding of how the method from the paper works albeit being very simple in its design.\n"
   ]
  },
  {
   "cell_type": "markdown",
   "metadata": {},
   "source": [
    "### Determining Orientation and Shape Dimensions using PCA\n",
    "\n"
   ]
  },
  {
   "cell_type": "code",
   "execution_count": null,
   "metadata": {},
   "outputs": [],
   "source": [
    "# Set random seed for reproducibility\n",
    "# random.seed(42)\n",
    "# np.random.seed(42)"
   ]
  },
  {
   "cell_type": "code",
   "execution_count": null,
   "metadata": {},
   "outputs": [],
   "source": [
    "# # | export\n",
    "# # Generate a simple scene with cube primitives in structured arrangement\n",
    "# def generate_cube_grid(n_x=4, n_y=3, spacing=1.5):\n",
    "#     cube = o3d.geometry.TriangleMesh.create_box(width=1.0, height=1.0, depth=1.0)\n",
    "#     cube.compute_vertex_normals()\n",
    "#     scene = []\n",
    "#     for i in range(n_x):\n",
    "#         for j in range(n_y):\n",
    "#             new_cube = copy.deepcopy(cube)\n",
    "#             new_cube.translate(np.array([i * spacing, j * spacing, 0]))\n",
    "#             scene.append(new_cube)\n",
    "#     return scene"
   ]
  },
  {
   "cell_type": "code",
   "execution_count": null,
   "metadata": {},
   "outputs": [],
   "source": [
    "# # | export\n",
    "# def generate_custom_scene():\n",
    "#     cube = o3d.geometry.TriangleMesh.create_box(width=1.0, height=1.0, depth=1.0)\n",
    "#     cube.compute_vertex_normals()\n",
    "#     scene = []\n",
    "\n",
    "#     def place_grid(start, nx, ny, dx=1.5, dy=1.5):\n",
    "#         for i in range(nx):\n",
    "#             for j in range(ny):\n",
    "#                 c = copy.deepcopy(cube)\n",
    "#                 c.translate([start[0] + i * dx, start[1] + j * dy, start[2]])\n",
    "#                 scene.append(c)\n",
    "\n",
    "#     def place_line(start, count, d=1.5):\n",
    "#         for i in range(count):\n",
    "#             c = copy.deepcopy(cube)\n",
    "#             c.translate([start[0] + i * d, start[1], start[2]])\n",
    "#             scene.append(c)\n",
    "\n",
    "#     def place_cluster(center, count=6, spread=0.6):\n",
    "#         for _ in range(count):\n",
    "#             c = copy.deepcopy(cube)\n",
    "#             offset = np.random.normal(scale=spread, size=3)\n",
    "#             c.translate(center + offset)\n",
    "#             scene.append(c)\n",
    "\n",
    "#     # Pattern 1: Structured Grid → suggests regularity and proximity\n",
    "#     place_grid(start=np.array([0, 0, 0]), nx=3, ny=2)\n",
    "\n",
    "#     # Pattern 2: Line → suggests continuity\n",
    "#     place_line(start=np.array([7, 0, 0]), count=5)\n",
    "\n",
    "#     # Pattern 3: Dense Cluster → suggests proximity, but low regularity\n",
    "#     place_cluster(center=np.array([0, 6, 0]), count=7)\n",
    "\n",
    "#     # Pattern 4: Small tight grid → proximity + potential symmetry\n",
    "#     place_grid(start=np.array([7, 6, 0]), nx=2, ny=2, dx=1.0, dy=1.0)\n",
    "\n",
    "#     # Pattern 5: Short isolated line → separate group\n",
    "#     place_line(start=np.array([3, 3, 0]), count=3)\n",
    "\n",
    "#     return scene"
   ]
  },
  {
   "cell_type": "code",
   "execution_count": null,
   "metadata": {},
   "outputs": [],
   "source": [
    "# # | export\n",
    "# # Create axis-aligned bounding box for a group of cubes\n",
    "# # color them based on their regularity scores\n",
    "# def create_group_aabb(group, regularity_score):\n",
    "#     all_points = np.vstack([np.asarray(cube.get_axis_aligned_bounding_box().get_box_points()) for cube in group])\n",
    "#     aabb = o3d.geometry.AxisAlignedBoundingBox.create_from_points(o3d.utility.Vector3dVector(all_points))\n",
    "\n",
    "#     # Color code based on score\n",
    "#     if regularity_score >= 0.8:\n",
    "#         aabb.color = (0.0, 1.0, 0.0)  # Green = regular\n",
    "#     elif regularity_score >= 0.5:\n",
    "#         aabb.color = (1.0, 0.65, 0.0)  # Orange = moderate\n",
    "#     else:\n",
    "#         aabb.color = (1.0, 0.0, 0.0)  # Red = irregular\n",
    "#     return aabb\n"
   ]
  },
  {
   "cell_type": "markdown",
   "metadata": {},
   "source": [
    "### Proximity Metric\n",
    "\n",
    "The proximity metric groups objects that are close to one another into a single group"
   ]
  },
  {
   "cell_type": "code",
   "execution_count": null,
   "metadata": {},
   "outputs": [],
   "source": [
    "# # | export\n",
    "# # Grouping by proximity (Euclidean distance between centers)\n",
    "# def group_by_proximity(cubes, threshold=2.0):\n",
    "#     centers = [cube.get_center() for cube in cubes]\n",
    "#     groups = []\n",
    "#     used = set()\n",
    "#     for i in range(len(cubes)):\n",
    "#         if i in used:\n",
    "#             continue\n",
    "#         group = [cubes[i]]\n",
    "#         used.add(i)\n",
    "#         for j in range(i + 1, len(cubes)):\n",
    "#             if j not in used and np.linalg.norm(centers[i] - centers[j]) < threshold:\n",
    "#                 group.append(cubes[j])\n",
    "#                 used.add(j)\n",
    "#         groups.append(group)\n",
    "#     return groups"
   ]
  },
  {
   "cell_type": "markdown",
   "metadata": {},
   "source": [
    "### Regularity Scoring\n",
    "As a second metric in combination with proximity i include  a regularity score for each group.\n",
    "\n",
    "Color bounding boxes based on that score:\n",
    "* 🟢 green = high regularity (≥ 0.8)\n",
    "* 🟠 orange = medium regularity (0.5–0.8)\n",
    "* 🔴 red = low regularity (< 0.5)\n"
   ]
  },
  {
   "cell_type": "code",
   "execution_count": null,
   "metadata": {},
   "outputs": [],
   "source": [
    "# # | export\n",
    "# def compute_group_regularity(group):\n",
    "#     if len(group) < 3:\n",
    "#         return 0.0  # too small to assess regularity\n",
    "\n",
    "#     centers = np.array([cube.get_center() for cube in group])\n",
    "#     diffs = []\n",
    "\n",
    "#     for i in range(len(centers)):\n",
    "#         for j in range(i + 1, len(centers)):\n",
    "#             diff = centers[j] - centers[i]\n",
    "#             if np.linalg.norm(diff) > 1e-6:\n",
    "#                 diffs.append(diff)\n",
    "\n",
    "#     if len(diffs) < 3:\n",
    "#         return 0.0  # not enough meaningful direction vectors\n",
    "\n",
    "#     diffs = np.array(diffs)\n",
    "#     norm_diffs = np.linalg.norm(diffs, axis=1, keepdims=True)\n",
    "#     unit_dirs = diffs / norm_diffs\n",
    "\n",
    "#     # PCA via covariance matrix of unit directions\n",
    "#     try:\n",
    "#         cov = np.cov(unit_dirs.T)\n",
    "#         eigenvalues, _ = np.linalg.eigh(cov)\n",
    "#         principal_val = eigenvalues[-1]  # largest eigenvalue = dominant direction\n",
    "#         return float(np.clip(principal_val, 0.0, 1.0))  # clip to avoid NaNs\n",
    "#     except np.linalg.LinAlgError:\n",
    "#         return 0.0\n"
   ]
  },
  {
   "cell_type": "code",
   "execution_count": null,
   "metadata": {},
   "outputs": [
    {
     "name": "stdout",
     "output_type": "stream",
     "text": [
      "Group 0: Size=4, Regularity=0.60\n",
      "Group 1: Size=2, Regularity=0.00\n",
      "Group 2: Size=2, Regularity=0.00\n",
      "Group 3: Size=2, Regularity=0.00\n",
      "Group 4: Size=1, Regularity=0.00\n",
      "Group 5: Size=7, Regularity=0.46\n",
      "Group 6: Size=4, Regularity=0.60\n",
      "Group 7: Size=2, Regularity=0.00\n",
      "Group 8: Size=1, Regularity=0.00\n"
     ]
    }
   ],
   "source": [
    "# Run demo\n",
    "scene = generate_custom_scene()\n",
    "groups = group_by_proximity(scene, threshold=2.2)\n",
    "\n",
    "bounding_boxes = []\n",
    "for i, group in enumerate(groups):\n",
    "    reg = compute_group_regularity(group)\n",
    "    print(f\"Group {i}: Size={len(group)}, Regularity={reg:.2f}\")\n",
    "    aabb = create_group_aabb(group, reg)\n",
    "    bounding_boxes.append(aabb)\n"
   ]
  },
  {
   "cell_type": "code",
   "execution_count": null,
   "metadata": {},
   "outputs": [
    {
     "name": "stdout",
     "output_type": "stream",
     "text": [
      "\u001b[1;33m[Open3D WARNING] GLFW Error: Wayland: The platform does not support setting the window position\u001b[0;m\n",
      "\u001b[1;33m[Open3D WARNING] Failed to initialize GLEW.\u001b[0;m\n",
      "\u001b[1;33m[Open3D WARNING] [DrawGeometries] Failed creating OpenGL window.\u001b[0;m\n"
     ]
    }
   ],
   "source": [
    "\n",
    "# Visualize\n",
    "o3d.visualization.draw_geometries(scene + bounding_boxes)"
   ]
  },
  {
   "cell_type": "markdown",
   "metadata": {},
   "source": []
  },
  {
   "cell_type": "markdown",
   "metadata": {},
   "source": [
    "`<<<<<<< HEAD`"
   ]
  },
  {
   "cell_type": "code",
   "execution_count": null,
   "metadata": {},
   "outputs": [],
   "source": [
    "# from abc import ABC, abstractmethod\n",
    "# from typing import Tuple\n",
    "\n",
    "\n",
    "# class Evaluator(ABC):\n",
    "#     \"\"\"\n",
    "#     Any grouping method must override `evaluate`.\n",
    "#     It should return:\n",
    "#       - groups:   list[list[o3d.TriangleMesh]]\n",
    "#       - scores:   list[float]  (one per group, 0-1, or None if not meaningful)\n",
    "#     \"\"\"\n",
    "#     name: str            # short label used in menus\n",
    "#     color: Tuple[float]  # default RGB for this method’s boxes\n",
    "\n",
    "#     @abstractmethod\n",
    "#     def evaluate(self, cubes) -> tuple[list, list]:\n",
    "#         ...\n",
    "\n",
    "\n",
    "# class ProximityEval(Evaluator):\n",
    "#     name, color = \"Proximity\", (0.2, 0.6, 1.0)  # light-blue\n",
    "\n",
    "#     def evaluate(self, cubes):\n",
    "#         groups = group_by_proximity(cubes, threshold=2.2)\n",
    "#         # No per-group quality score → fill with None\n",
    "#         return groups, [None]*len(groups)\n",
    "\n",
    "\n",
    "# class RegularityEval(Evaluator):\n",
    "#     name, color = \"Regularity\", (0.0, 0.8, 0.2)  # green\n",
    "\n",
    "#     def evaluate(self, cubes):\n",
    "#         groups = group_by_proximity(cubes, threshold=2.2)  # reuse\n",
    "#         scores = [compute_group_regularity(g) for g in groups]\n",
    "#         return groups, scores\n",
    "\n",
    "\n",
    "# def groups_to_bboxes(groups, scores, base_color):\n",
    "#     boxes = []\n",
    "#     for g, s in zip(groups, scores):\n",
    "#         aabb = create_group_aabb(g, s if s is not None else 1.0)\n",
    "#         # over-write color so each evaluator keeps its own palette\n",
    "#         aabb.color = base_color\n",
    "#         boxes.append(aabb)\n",
    "#     return boxes\n",
    "\n",
    "\n",
    "# evaluators = [ProximityEval(), RegularityEval()]\n",
    "# state = {\"idx\": 0, \"scene\": scene}  # mutable dict so the lambda sees updates\n",
    "\n",
    "# def refresh(vis):\n",
    "#     vis.clear_geometries()\n",
    "#     vis.add_geometry(*state[\"scene\"])             # raw cubes\n",
    "#     ev = evaluators[state[\"idx\"]]\n",
    "#     groups, scores = ev.evaluate(state[\"scene\"])\n",
    "#     for box in groups_to_bboxes(groups, scores, ev.color):\n",
    "#         vis.add_geometry(box)\n",
    "#     print(f\"Showing: {ev.name}\")\n",
    "#     return False                                  # tell Open3D to redraw\n",
    "\n",
    "# def next_method(vis):\n",
    "#     state[\"idx\"] = (state[\"idx\"] + 1) % len(evaluators)\n",
    "#     return refresh(vis)\n",
    "\n",
    "# key_to_callback = {ord(\"N\"): next_method}  # press ‘N’ to cycle\n",
    "# o3d.visualization.draw_geometries_with_key_callbacks(state[\"scene\"], key_to_callback,\n",
    "#                                                      window_name=\"Gestalt inspector\")\n"
   ]
  },
  {
   "cell_type": "markdown",
   "metadata": {},
   "source": [
    "`=======`"
   ]
  },
  {
   "cell_type": "code",
   "execution_count": null,
   "metadata": {},
   "outputs": [],
   "source": [
    "# from abc import ABC, abstractmethod\n",
    "# from typing import Tuple\n",
    "#\n",
    "#\n",
    "# class Evaluator(ABC):\n",
    "#     \"\"\"\n",
    "#     Any grouping method must override `evaluate`.\n",
    "#     It should return:\n",
    "#       - groups:   list[list[o3d.TriangleMesh]]\n",
    "#       - scores:   list[float]  (one per group, 0-1, or None if not meaningful)\n",
    "#     \"\"\"\n",
    "#     name: str            # short label used in menus\n",
    "#     color: Tuple[float]  # default RGB for this method’s boxes\n",
    "#\n",
    "#     @abstractmethod\n",
    "#     def evaluate(self, cubes) -> tuple[list, list]:\n",
    "#         ...\n",
    "#\n",
    "#\n",
    "# class ProximityEval(Evaluator):\n",
    "#     name, color = \"Proximity\", (0.2, 0.6, 1.0)  # light-blue\n",
    "#\n",
    "#     def evaluate(self, cubes):\n",
    "#         groups = group_by_proximity(cubes, threshold=2.2)\n",
    "#         # No per-group quality score → fill with None\n",
    "#         return groups, [None]*len(groups)\n",
    "#\n",
    "#\n",
    "# class RegularityEval(Evaluator):\n",
    "#     name, color = \"Regularity\", (0.0, 0.8, 0.2)  # green\n",
    "#\n",
    "#     def evaluate(self, cubes):\n",
    "#         groups = group_by_proximity(cubes, threshold=2.2)  # reuse\n",
    "#         scores = [compute_group_regularity(g) for g in groups]\n",
    "#         return groups, scores\n",
    "#\n",
    "#\n",
    "# def groups_to_bboxes(groups, scores, base_color):\n",
    "#     boxes = []\n",
    "#     for g, s in zip(groups, scores):\n",
    "#         aabb = create_group_aabb(g, s if s is not None else 1.0)\n",
    "#         # over-write color so each evaluator keeps its own palette\n",
    "#         aabb.color = base_color\n",
    "#         boxes.append(aabb)\n",
    "#     return boxes\n",
    "#\n",
    "#\n",
    "# evaluators = [ProximityEval(), RegularityEval()]\n",
    "# state = {\"idx\": 0, \"scene\": scene}  # mutable dict so the lambda sees updates\n",
    "#\n",
    "# def refresh(vis):\n",
    "#     vis.clear_geometries()\n",
    "#     vis.add_geometry(*state[\"scene\"])             # raw cubes\n",
    "#     ev = evaluators[state[\"idx\"]]\n",
    "#     groups, scores = ev.evaluate(state[\"scene\"])\n",
    "#     for box in groups_to_bboxes(groups, scores, ev.color):\n",
    "#         vis.add_geometry(box)\n",
    "#     print(f\"Showing: {ev.name}\")\n",
    "#     return False                                  # tell Open3D to redraw\n",
    "#\n",
    "# def next_method(vis):\n",
    "#     state[\"idx\"] = (state[\"idx\"] + 1) % len(evaluators)\n",
    "#     return refresh(vis)\n",
    "#\n",
    "# key_to_callback = {ord(\"N\"): next_method}  # press ‘N’ to cycle\n",
    "# o3d.visualization.draw_geometries_with_key_callbacks(state[\"scene\"], key_to_callback,\n",
    "#                                                      window_name=\"Gestalt inspector\")\n",
    "#"
   ]
  },
  {
   "cell_type": "markdown",
   "metadata": {},
   "source": [
    "`>>>>>>> '33be097f270828eb783d2d95edd219c6d9c089ea'`"
   ]
  },
  {
   "cell_type": "code",
   "execution_count": null,
   "metadata": {},
   "outputs": [],
   "source": [
    "#| hide\n",
    "import nbdev; nbdev.nbdev_export()"
   ]
  },
  {
   "cell_type": "code",
   "execution_count": null,
   "metadata": {},
   "outputs": [],
   "source": []
  }
 ],
 "metadata": {
  "kernelspec": {
   "display_name": "Python 3 (ipykernel)",
   "language": "python",
   "name": "python3"
  },
  "language_info": {
   "codemirror_mode": {
    "name": "ipython",
    "version": 3
   },
   "file_extension": ".py",
   "mimetype": "text/x-python",
   "name": "python",
   "nbconvert_exporter": "python",
   "pygments_lexer": "ipython3",
   "version": "3.12.7"
  }
 },
 "nbformat": 4,
 "nbformat_minor": 4
}
