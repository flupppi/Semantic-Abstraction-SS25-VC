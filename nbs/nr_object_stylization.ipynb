{
 "cells": [
  {
   "cell_type": "code",
   "execution_count": null,
   "metadata": {},
   "outputs": [],
   "source": [
    "\n",
    "%matplotlib widget"
   ]
  },
  {
   "cell_type": "markdown",
   "metadata": {},
   "source": [
    "# Non-Realistic Object Stylization\n",
    "> Paper Review"
   ]
  },
  {
   "cell_type": "code",
   "execution_count": null,
   "metadata": {},
   "outputs": [],
   "source": [
    "#| default_exp core"
   ]
  },
  {
   "cell_type": "code",
   "execution_count": null,
   "metadata": {},
   "outputs": [],
   "source": [
    "#| hide\n",
    "from nbdev.showdoc import *"
   ]
  },
  {
   "cell_type": "code",
   "execution_count": null,
   "metadata": {},
   "outputs": [],
   "source": [
    "#| export\n",
    "import trimesh\n",
    "import scipy\n",
    "import pyglet\n",
    "import numpy as np\n",
    "from sklearn.decomposition import PCA\n",
    "import matplotlib.pyplot as plt\n",
    "from mpl_toolkits.mplot3d import Axes3D\n",
    "import numpy as np"
   ]
  },
  {
   "cell_type": "markdown",
   "metadata": {},
   "source": [
    "## Overview\n",
    "\n",
    "The paper describes a method for creating stylized geometry for pre-segmented input models.\n",
    "It uses an initial shape analysis step to find the type of fill pattern and its orientation to be used.\n",
    "In an interactive process the user can then choose a fill pattern for each segment.\n",
    "In a clipping stage the fill pattern is then clipped against the model boundary and all segments are assembled into a complete model.\n",
    "\n",
    "### Shape Analysis\n",
    "\n",
    "The shape analysis is the most interesting part here, it consists of **Random Sample Consensus (RANSAC)**, which helps to determine the best-fitting primitive shape such as a box-, ellipsoid- or a cone-like structure. It uses a limited amount of vertex samples per iteration to find a primitive shape that is most similar to the shape of the segment.\n",
    "\n",
    " **Principal Component Analysis (PCA)** is to determine the axes of maximum variance of the vertex coordinates and computes 3 main axes as well as the ratio of variance between these. This allows to orient the primitives that are fit to the model and help select an appropriate fill pattern.\n",
    "\n",
    "When both methods are combined good selections for fill patterns can be made that can also be oriented and distributed optimally within the model."
   ]
  },
  {
   "cell_type": "markdown",
   "metadata": {},
   "source": [
    "\n"
   ]
  },
  {
   "cell_type": "markdown",
   "metadata": {},
   "source": [
    "\n",
    "![pca-ransac.png](data/pca-ransac.png)"
   ]
  },
  {
   "cell_type": "markdown",
   "metadata": {},
   "source": [
    "Schematic diagram from the paper that shows the outcome of RANSAC and PCA. While the input mesh is given on the left, the center illustrates the shapes detected with RANSAC and the right-hand side points out the main directions of PCA for each segment.\n",
    "\n",
    "\n",
    "## Implementation\n",
    "\n",
    "In this notebook I implement a demonstration of each of these methods on an input model and then combine both of them to get similar results to those in the paper.\n",
    "\n",
    "\n",
    "### Primitive Fitting with RANSAC\n",
    "\n",
    "\n",
    "To implement RANSAC for shape fitting we need to be able to load a model.\n",
    "\n",
    "We also need shapes to fit to the model.\n",
    "\n"
   ]
  },
  {
   "cell_type": "code",
   "execution_count": null,
   "metadata": {},
   "outputs": [],
   "source": [
    "# load model \n",
    "\n",
    "model1 = \"data/armor griffin.glb\"\n",
    "model2 = \"data/big_soviet_panel_house_lowpoly.glb\"\n",
    "model3 = \"data/1967 Chevrolet Camaro SS.glb\"\n",
    "model4 = \"data/1956 BMW Isetta 300 Convertible.glb\"\n",
    "scene = trimesh.Scene()\n",
    "\n",
    "shapes = []\n",
    "\n",
    "number_of_points = 6\n",
    "inlier_threshold = 0.1\n",
    "number_of_trials = 10\n",
    "\n",
    "#trimesh.util.attach_to_log()\n",
    "\n",
    "mesh = trimesh.load(model4, force='mesh')\n",
    "scene.add_geometry(mesh)"
   ]
  },
  {
   "cell_type": "code",
   "execution_count": null,
   "metadata": {},
   "outputs": [],
   "source": [
    "mesh.show()"
   ]
  },
  {
   "cell_type": "code",
   "execution_count": null,
   "metadata": {},
   "outputs": [],
   "source": [
    "type(mesh)"
   ]
  },
  {
   "cell_type": "code",
   "execution_count": null,
   "metadata": {},
   "outputs": [],
   "source": [
    "mesh.is_watertight"
   ]
  },
  {
   "cell_type": "code",
   "execution_count": null,
   "metadata": {},
   "outputs": [],
   "source": [
    "\n",
    "vertices = np.array(mesh.vertices)\n",
    "vertices"
   ]
  },
  {
   "cell_type": "code",
   "execution_count": null,
   "metadata": {},
   "outputs": [],
   "source": [
    "#| export\n",
    "def ransac_bounding_box(points, n_trials=10, sample_size=6, threshold=0.01):\n",
    "    best_fit = None\n",
    "    best_inliers = 0\n",
    "\n",
    "    for i in range(n_trials):\n",
    "        sample_indices = np.random.choice(len(points), sample_size, replace=False)\n",
    "        sample = points[sample_indices]\n",
    "\n",
    "        # Create bounding box\n",
    "        min_corner = sample.min(axis=0)\n",
    "        max_corner = sample.max(axis=0)\n",
    "        \n",
    "        # Count inliers\n",
    "        in_box = np.all((points >= min_corner - threshold) & (points <= max_corner + threshold), axis=1)\n",
    "        num_inliers = np.count_nonzero(in_box)\n",
    "\n",
    "        if num_inliers > best_inliers:\n",
    "            best_inliers = num_inliers\n",
    "            best_fit = (min_corner, max_corner)\n",
    "\n",
    "    return best_fit, best_inliers\n"
   ]
  },
  {
   "cell_type": "code",
   "execution_count": null,
   "metadata": {},
   "outputs": [],
   "source": [
    "# |export \n",
    "def ransac_cylinder_with_pca(points, n_trials=1000, threshold=0.05):\n",
    "    # --- Step 1: PCA Initialization ---\n",
    "    pca = PCA(n_components=3)\n",
    "    pca.fit(points)\n",
    "    axis = pca.components_[0]\n",
    "    center = pca.mean_\n",
    "\n",
    "    # Project points onto the axis\n",
    "    projections = np.dot(points - center, axis)\n",
    "    min_proj, max_proj = projections.min(), projections.max()\n",
    "    height = max_proj - min_proj\n",
    "    base_point = center + min_proj * axis  # point on axis\n",
    "\n",
    "    # --- Step 2: RANSAC for radius ---\n",
    "    best_fit = None\n",
    "    best_inliers = 0\n",
    "\n",
    "    for _ in range(n_trials):\n",
    "        sample = points[np.random.choice(len(points), 3, replace=False)]\n",
    "\n",
    "        # Project sample to axis to get radial vectors\n",
    "        v = sample - base_point\n",
    "        sample_proj = np.dot(v, axis)\n",
    "        closest_points = np.outer(sample_proj, axis) + base_point\n",
    "        radial_vecs = sample - closest_points\n",
    "        radius = np.mean(np.linalg.norm(radial_vecs, axis=1))\n",
    "\n",
    "        # Evaluate all points\n",
    "        v_all = points - base_point\n",
    "        projections_all = np.dot(v_all, axis)\n",
    "        closest_points_all = np.outer(projections_all, axis) + base_point\n",
    "        radial_vectors = points - closest_points_all\n",
    "        dists = np.linalg.norm(radial_vectors, axis=1)\n",
    "\n",
    "        inliers = np.abs(dists - radius) < threshold\n",
    "        num_inliers = np.sum(inliers)\n",
    "\n",
    "        if num_inliers > best_inliers:\n",
    "            best_inliers = num_inliers\n",
    "            best_fit = {\n",
    "                \"point_on_axis\": base_point,\n",
    "                \"axis_direction\": axis,\n",
    "                \"radius\": radius,\n",
    "                \"height\": height,\n",
    "            }\n",
    "\n",
    "    return best_fit, best_inliers\n",
    "\n"
   ]
  },
  {
   "cell_type": "code",
   "execution_count": null,
   "metadata": {},
   "outputs": [],
   "source": [
    "#| export\n",
    "\n",
    "def trimesh_scene_with_box(mesh, fit_box):\n",
    "    min_corner, max_corner = fit_box\n",
    "    center = (min_corner + max_corner) / 2\n",
    "    extents = max_corner - min_corner\n",
    "\n",
    "    # Create transparent box\n",
    "    box = trimesh.creation.box(extents=extents,\n",
    "                               transform=trimesh.transformations.translation_matrix(center))\n",
    "    box.visual.face_colors = [255, 0, 0, 100]  # Semi-transparent red\n",
    "\n",
    "    scene = trimesh.Scene()\n",
    "    scene.add_geometry(mesh)\n",
    "    scene.add_geometry(box)\n",
    "    scene.show()\n",
    "    return scene"
   ]
  },
  {
   "cell_type": "code",
   "execution_count": null,
   "metadata": {},
   "outputs": [],
   "source": [
    "#|export\n",
    "\n",
    "def trimesh_scene_with_sphere(mesh, fit_sphere):\n",
    "    center, radius = fit_sphere\n",
    "\n",
    "    # Create a semi-transparent green sphere\n",
    "    sphere = trimesh.creation.icosphere(radius=radius, subdivisions=4)\n",
    "    sphere.apply_translation(center)\n",
    "    sphere.visual.face_colors = [0, 255, 0, 100]  # Semi-transparent green\n",
    "\n",
    "    # Build scene\n",
    "    scene = trimesh.Scene()\n",
    "    scene.add_geometry(mesh)\n",
    "    scene.add_geometry(sphere)\n",
    "    scene.show()\n",
    "    return scene\n"
   ]
  },
  {
   "cell_type": "code",
   "execution_count": null,
   "metadata": {},
   "outputs": [],
   "source": [
    "#| export\n",
    "def trimesh_scene_with_cylinder(mesh, fit_cylinder, height=None):\n",
    "    origin = fit_cylinder[\"point_on_axis\"]\n",
    "    direction = fit_cylinder[\"axis_direction\"]\n",
    "    radius = fit_cylinder[\"radius\"]\n",
    "\n",
    "    # Estimate height if not given\n",
    "    bbox = mesh.bounds\n",
    "    if height is None:\n",
    "        height = np.linalg.norm(bbox[1] - bbox[0])  # loose approximation\n",
    "\n",
    "    # Create base cylinder aligned with Z axis\n",
    "    cylinder = trimesh.creation.cylinder(radius=radius, height=height, sections=32)\n",
    "    cylinder.visual.face_colors = [0, 0, 255, 100]  # semi-transparent blue\n",
    "\n",
    "    # Align cylinder's Z axis with direction\n",
    "    z_axis = np.array([0, 0, 1])\n",
    "    axis = direction / np.linalg.norm(direction)\n",
    "    align = trimesh.geometry.align_vectors(z_axis, axis)\n",
    "\n",
    "    # Translate to position: center along axis starting from origin\n",
    "    translation = trimesh.transformations.translation_matrix(origin + 0.5 * height * axis)\n",
    "\n",
    "    # Combine rotation and translation\n",
    "    transform = trimesh.transformations.concatenate_matrices(translation, align)\n",
    "    cylinder.apply_transform(transform)\n",
    "\n",
    "    # Show scene\n",
    "    scene = trimesh.Scene()\n",
    "    scene.add_geometry(mesh)\n",
    "    scene.add_geometry(cylinder)\n",
    "    scene.show()\n",
    "    return scene\n",
    "\n"
   ]
  },
  {
   "cell_type": "code",
   "execution_count": null,
   "metadata": {},
   "outputs": [],
   "source": [
    "#| export\n",
    "\n",
    "def run_ransac_fits(points, threshold=0.01, n_trials=1000):\n",
    "    fits = {}\n",
    "    \n",
    "    bbox_fit, bbox_inliers = ransac_bounding_box(points, threshold=threshold, n_trials=n_trials)\n",
    "    fits['box'] = {'fit': bbox_fit, 'inliers': bbox_inliers}\n",
    "    \n",
    "    sphere_fit, sphere_inliers = ransac_sphere(points)\n",
    "    fits['sphere'] = {'fit': sphere_fit, 'inliers': sphere_inliers}\n",
    "    \n",
    "    \n",
    "    cylinder_fit, cylinder_inliers = ransac_cylinder_with_pca(points, threshold=threshold, n_trials=n_trials)\n",
    "    fits[\"cylinder\"] = {\"fit\": cylinder_fit, \"inliers\": cylinder_inliers}\n",
    "\n",
    "    \n",
    "    # TODO: cylinder, cone, etc.\n",
    "    \n",
    "    return fits\n"
   ]
  },
  {
   "cell_type": "code",
   "execution_count": null,
   "metadata": {},
   "outputs": [],
   "source": [
    "#| export\n",
    "def ransac_sphere(points, n_trials=1000, sample_size=4, threshold=0.1):\n",
    "    best_fit = None\n",
    "    best_inliers = 0\n",
    "\n",
    "    for _ in range(n_trials):\n",
    "        sample = points[np.random.choice(len(points), sample_size, replace=False)]\n",
    "        \n",
    "        # Solve (x - cx)^2 + (y - cy)^2 + (z - cz)^2 = r^2\n",
    "        A = np.hstack((2 * sample, np.ones((sample.shape[0], 1))))\n",
    "        b = np.sum(sample**2, axis=1).reshape(-1, 1)\n",
    "        \n",
    "        try:\n",
    "            x = np.linalg.lstsq(A, b, rcond=None)[0].flatten()\n",
    "            center = x[:3]\n",
    "            radius = np.sqrt(x[3] + np.sum(center**2))\n",
    "\n",
    "            # Evaluate inliers\n",
    "            dists = np.linalg.norm(points - center, axis=1)\n",
    "            inliers = np.abs(dists - radius) < threshold\n",
    "            num_inliers = np.sum(inliers)\n",
    "\n",
    "            if num_inliers > best_inliers:\n",
    "                best_inliers = num_inliers\n",
    "                best_fit = (center, radius)\n",
    "        except np.linalg.LinAlgError:\n",
    "            continue\n",
    "\n",
    "    return best_fit, best_inliers\n"
   ]
  },
  {
   "cell_type": "code",
   "execution_count": null,
   "metadata": {},
   "outputs": [],
   "source": [
    "# Run RANSAC\n",
    "fits = run_ransac_fits(vertices, threshold=0.05, n_trials=500)\n",
    "for name, result in fits.items():\n",
    "    print(f\"{name} fit: inliers={result['inliers']} ({(result['inliers']/len(mesh.vertices)*100):.4f}%, fit={result['fit']}\")\n",
    "\n"
   ]
  },
  {
   "cell_type": "code",
   "execution_count": null,
   "metadata": {},
   "outputs": [],
   "source": [
    "trimesh_scene_with_box(mesh, fits['box']['fit']).show()"
   ]
  },
  {
   "cell_type": "code",
   "execution_count": null,
   "metadata": {},
   "outputs": [],
   "source": [
    "trimesh_scene_with_sphere(mesh, fits['sphere']['fit']).show()"
   ]
  },
  {
   "cell_type": "code",
   "execution_count": null,
   "metadata": {},
   "outputs": [],
   "source": [
    "trimesh_scene_with_cylinder(mesh, fits[\"cylinder\"][\"fit\"]).show()\n",
    "\n"
   ]
  },
  {
   "cell_type": "markdown",
   "metadata": {},
   "source": [
    "### Determining Orientation and Shape Dimensions using PCA\n",
    "\n"
   ]
  },
  {
   "cell_type": "code",
   "execution_count": null,
   "metadata": {},
   "outputs": [],
   "source": [
    "#| export\n",
    "\n",
    "def analyze_pca(points):\n",
    "    pca = PCA(n_components=3)\n",
    "    pca.fit(points)\n",
    "    axes = pca.components_\n",
    "    variances = pca.explained_variance_ratio_\n",
    "    return axes, variances"
   ]
  },
  {
   "cell_type": "code",
   "execution_count": null,
   "metadata": {},
   "outputs": [],
   "source": [
    "# Run PCA\n",
    "pca_axes, pca_variances = analyze_pca(vertices)\n",
    "\n",
    "print(\"PCA Axes:\\n\", pca_axes)\n",
    "print(\"PCA Variance Ratios:\\n\", pca_variances)"
   ]
  },
  {
   "cell_type": "code",
   "execution_count": null,
   "metadata": {},
   "outputs": [],
   "source": [
    "#| export\n",
    "\n",
    "\n",
    "def set_axes_equal(ax):\n",
    "    \"\"\"Set 3D plot axes to equal scale.\"\"\"\n",
    "    x_limits = ax.get_xlim3d()\n",
    "    y_limits = ax.get_ylim3d()\n",
    "    z_limits = ax.get_zlim3d()\n",
    "\n",
    "    x_range = np.abs(x_limits[1] - x_limits[0])\n",
    "    x_middle = np.mean(x_limits)\n",
    "    y_range = np.abs(y_limits[1] - y_limits[0])\n",
    "    y_middle = np.mean(y_limits)\n",
    "    z_range = np.abs(z_limits[1] - z_limits[0])\n",
    "    z_middle = np.mean(z_limits)\n",
    "\n",
    "    max_range = max(x_range, y_range, z_range)\n",
    "\n",
    "    ax.set_xlim3d([x_middle - max_range / 2, x_middle + max_range / 2])\n",
    "    ax.set_ylim3d([y_middle - max_range / 2, y_middle + max_range / 2])\n",
    "    ax.set_zlim3d([z_middle - max_range / 2, z_middle + max_range / 2])"
   ]
  },
  {
   "cell_type": "code",
   "execution_count": null,
   "metadata": {},
   "outputs": [],
   "source": [
    "#| export\n",
    "\n",
    "def plot_mesh_with_pca_and_box(vertices, pca_axes, fit_box):\n",
    "    # Inside the function, right after receiving vertices:\n",
    "    fig = plt.figure(figsize=(10, 10))\n",
    "    ax = fig.add_subplot(111, projection='3d')\n",
    "\n",
    "    # Plot mesh vertices\n",
    "    ax.scatter(vertices[:, 0], vertices[:, 1], vertices[:, 2], s=0.5, alpha=0.1, label=\"Vertices\")\n",
    "\n",
    "    # Plot PCA axes\n",
    "    origin = np.mean(vertices, axis=0)\n",
    "    colors = ['r', 'g', 'b']\n",
    "    for i in range(3):\n",
    "        axis = pca_axes[i]\n",
    "        ax.quiver(*origin, *axis, length=0.3, color=colors[i], label=f\"PCA Axis {i+1}\")\n",
    "\n",
    "    # Plot fitted box\n",
    "    min_corner, max_corner = fit_box\n",
    "    from itertools import product, combinations\n",
    "    corners = np.array(list(product(*zip(min_corner, max_corner))))\n",
    "    for start, end in combinations(corners, 2):\n",
    "        if np.sum(np.abs(start - end) == np.abs(max_corner - min_corner)) == 1:\n",
    "            ax.plot(*zip(start, end), color=\"k\", linewidth=0.5)\n",
    "\n",
    "    set_axes_equal(ax)\n",
    "    ax.set_title(\"PCA & RANSAC Bounding Box Visualization\")\n",
    "    ax.legend()\n",
    "    plt.tight_layout()\n",
    "    plt.show()"
   ]
  },
  {
   "cell_type": "code",
   "execution_count": null,
   "metadata": {},
   "outputs": [],
   "source": [
    "plot_mesh_with_pca_and_box(vertices, pca_axes, fits['box']['fit'])\n"
   ]
  },
  {
   "cell_type": "code",
   "execution_count": null,
   "metadata": {},
   "outputs": [],
   "source": [
    "#| hide\n",
    "import nbdev; nbdev.nbdev_export()"
   ]
  },
  {
   "cell_type": "code",
   "execution_count": null,
   "metadata": {},
   "outputs": [],
   "source": []
  }
 ],
 "metadata": {
  "kernelspec": {
   "display_name": "python3",
   "language": "python",
   "name": "python3"
  }
 },
 "nbformat": 4,
 "nbformat_minor": 4
}
